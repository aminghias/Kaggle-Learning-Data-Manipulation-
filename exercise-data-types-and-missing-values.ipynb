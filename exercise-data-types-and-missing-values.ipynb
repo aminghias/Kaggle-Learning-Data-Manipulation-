{
 "cells": [
  {
   "cell_type": "markdown",
   "id": "e0351e7e",
   "metadata": {
    "papermill": {
     "duration": 0.00601,
     "end_time": "2022-09-30T18:57:47.733436",
     "exception": false,
     "start_time": "2022-09-30T18:57:47.727426",
     "status": "completed"
    },
    "tags": []
   },
   "source": [
    "**This notebook is an exercise in the [Pandas](https://www.kaggle.com/learn/pandas) course.  You can reference the tutorial at [this link](https://www.kaggle.com/residentmario/data-types-and-missing-values).**\n",
    "\n",
    "---\n"
   ]
  },
  {
   "cell_type": "markdown",
   "id": "cf125ede",
   "metadata": {
    "papermill": {
     "duration": 0.004206,
     "end_time": "2022-09-30T18:57:47.742248",
     "exception": false,
     "start_time": "2022-09-30T18:57:47.738042",
     "status": "completed"
    },
    "tags": []
   },
   "source": [
    "# Introduction\n",
    "\n",
    "Run the following cell to load your data and some utility functions."
   ]
  },
  {
   "cell_type": "code",
   "execution_count": 1,
   "id": "c3b6f5ae",
   "metadata": {
    "execution": {
     "iopub.execute_input": "2022-09-30T18:57:47.754302Z",
     "iopub.status.busy": "2022-09-30T18:57:47.753218Z",
     "iopub.status.idle": "2022-09-30T18:57:50.785770Z",
     "shell.execute_reply": "2022-09-30T18:57:50.784686Z"
    },
    "papermill": {
     "duration": 3.042019,
     "end_time": "2022-09-30T18:57:50.788551",
     "exception": false,
     "start_time": "2022-09-30T18:57:47.746532",
     "status": "completed"
    },
    "tags": []
   },
   "outputs": [
    {
     "name": "stdout",
     "output_type": "stream",
     "text": [
      "Setup complete.\n"
     ]
    }
   ],
   "source": [
    "import pandas as pd\n",
    "\n",
    "reviews = pd.read_csv(\"../input/wine-reviews/winemag-data-130k-v2.csv\", index_col=0)\n",
    "\n",
    "from learntools.core import binder; binder.bind(globals())\n",
    "from learntools.pandas.data_types_and_missing_data import *\n",
    "print(\"Setup complete.\")"
   ]
  },
  {
   "cell_type": "markdown",
   "id": "6e5c1c0a",
   "metadata": {
    "papermill": {
     "duration": 0.004138,
     "end_time": "2022-09-30T18:57:50.797231",
     "exception": false,
     "start_time": "2022-09-30T18:57:50.793093",
     "status": "completed"
    },
    "tags": []
   },
   "source": [
    "# Exercises"
   ]
  },
  {
   "cell_type": "markdown",
   "id": "7a5d7caa",
   "metadata": {
    "papermill": {
     "duration": 0.004038,
     "end_time": "2022-09-30T18:57:50.805604",
     "exception": false,
     "start_time": "2022-09-30T18:57:50.801566",
     "status": "completed"
    },
    "tags": []
   },
   "source": [
    "## 1. \n",
    "What is the data type of the `points` column in the dataset?"
   ]
  },
  {
   "cell_type": "code",
   "execution_count": 2,
   "id": "4d6f5ba1",
   "metadata": {
    "execution": {
     "iopub.execute_input": "2022-09-30T18:57:50.815876Z",
     "iopub.status.busy": "2022-09-30T18:57:50.815497Z",
     "iopub.status.idle": "2022-09-30T18:57:50.826339Z",
     "shell.execute_reply": "2022-09-30T18:57:50.825485Z"
    },
    "papermill": {
     "duration": 0.018472,
     "end_time": "2022-09-30T18:57:50.828346",
     "exception": false,
     "start_time": "2022-09-30T18:57:50.809874",
     "status": "completed"
    },
    "tags": []
   },
   "outputs": [
    {
     "data": {
      "application/javascript": [
       "parent.postMessage({\"jupyterEvent\": \"custom.exercise_interaction\", \"data\": {\"outcomeType\": 1, \"valueTowardsCompletion\": 0.25, \"interactionType\": 1, \"questionType\": 1, \"questionId\": \"1_PointsDtype\", \"learnToolsVersion\": \"0.3.4\", \"failureMessage\": \"\", \"exceptionClass\": \"\", \"trace\": \"\"}}, \"*\")"
      ],
      "text/plain": [
       "<IPython.core.display.Javascript object>"
      ]
     },
     "metadata": {},
     "output_type": "display_data"
    },
    {
     "data": {
      "text/markdown": [
       "<span style=\"color:#33cc33\">Correct</span>"
      ],
      "text/plain": [
       "Correct"
      ]
     },
     "metadata": {},
     "output_type": "display_data"
    }
   ],
   "source": [
    "# Your code here\n",
    "dtype = reviews.points.dtype\n",
    "\n",
    "# Check your answer\n",
    "q1.check()"
   ]
  },
  {
   "cell_type": "code",
   "execution_count": 3,
   "id": "ff66792c",
   "metadata": {
    "execution": {
     "iopub.execute_input": "2022-09-30T18:57:50.839198Z",
     "iopub.status.busy": "2022-09-30T18:57:50.838806Z",
     "iopub.status.idle": "2022-09-30T18:57:50.846065Z",
     "shell.execute_reply": "2022-09-30T18:57:50.845259Z"
    },
    "papermill": {
     "duration": 0.015078,
     "end_time": "2022-09-30T18:57:50.848104",
     "exception": false,
     "start_time": "2022-09-30T18:57:50.833026",
     "status": "completed"
    },
    "tags": []
   },
   "outputs": [
    {
     "data": {
      "application/javascript": [
       "parent.postMessage({\"jupyterEvent\": \"custom.exercise_interaction\", \"data\": {\"interactionType\": 3, \"questionType\": 1, \"questionId\": \"1_PointsDtype\", \"learnToolsVersion\": \"0.3.4\", \"valueTowardsCompletion\": 0.0, \"failureMessage\": \"\", \"exceptionClass\": \"\", \"trace\": \"\", \"outcomeType\": 4}}, \"*\")"
      ],
      "text/plain": [
       "<IPython.core.display.Javascript object>"
      ]
     },
     "metadata": {},
     "output_type": "display_data"
    },
    {
     "data": {
      "text/markdown": [
       "<span style=\"color:#33cc99\">Solution:</span> \n",
       "```python\n",
       "dtype = reviews.points.dtype\n",
       "```"
      ],
      "text/plain": [
       "Solution: \n",
       "```python\n",
       "dtype = reviews.points.dtype\n",
       "```"
      ]
     },
     "metadata": {},
     "output_type": "display_data"
    }
   ],
   "source": [
    "#q1.hint()\n",
    "q1.solution()"
   ]
  },
  {
   "cell_type": "markdown",
   "id": "024e6eaa",
   "metadata": {
    "papermill": {
     "duration": 0.00444,
     "end_time": "2022-09-30T18:57:50.857278",
     "exception": false,
     "start_time": "2022-09-30T18:57:50.852838",
     "status": "completed"
    },
    "tags": []
   },
   "source": [
    "## 2. \n",
    "Create a Series from entries in the `points` column, but convert the entries to strings. Hint: strings are `str` in native Python."
   ]
  },
  {
   "cell_type": "code",
   "execution_count": 4,
   "id": "1e4637f5",
   "metadata": {
    "execution": {
     "iopub.execute_input": "2022-09-30T18:57:50.868749Z",
     "iopub.status.busy": "2022-09-30T18:57:50.868342Z",
     "iopub.status.idle": "2022-09-30T18:57:50.955097Z",
     "shell.execute_reply": "2022-09-30T18:57:50.953809Z"
    },
    "papermill": {
     "duration": 0.095397,
     "end_time": "2022-09-30T18:57:50.957457",
     "exception": false,
     "start_time": "2022-09-30T18:57:50.862060",
     "status": "completed"
    },
    "tags": []
   },
   "outputs": [
    {
     "data": {
      "application/javascript": [
       "parent.postMessage({\"jupyterEvent\": \"custom.exercise_interaction\", \"data\": {\"outcomeType\": 1, \"valueTowardsCompletion\": 0.25, \"interactionType\": 1, \"questionType\": 1, \"questionId\": \"2_StrPoints\", \"learnToolsVersion\": \"0.3.4\", \"failureMessage\": \"\", \"exceptionClass\": \"\", \"trace\": \"\"}}, \"*\")"
      ],
      "text/plain": [
       "<IPython.core.display.Javascript object>"
      ]
     },
     "metadata": {},
     "output_type": "display_data"
    },
    {
     "data": {
      "text/markdown": [
       "<span style=\"color:#33cc33\">Correct</span>"
      ],
      "text/plain": [
       "Correct"
      ]
     },
     "metadata": {},
     "output_type": "display_data"
    }
   ],
   "source": [
    "point_strings = reviews.points.astype(str)\n",
    "\n",
    "# Check your answer\n",
    "q2.check()"
   ]
  },
  {
   "cell_type": "code",
   "execution_count": 5,
   "id": "fdf4b884",
   "metadata": {
    "execution": {
     "iopub.execute_input": "2022-09-30T18:57:50.969339Z",
     "iopub.status.busy": "2022-09-30T18:57:50.968901Z",
     "iopub.status.idle": "2022-09-30T18:57:50.973696Z",
     "shell.execute_reply": "2022-09-30T18:57:50.972517Z"
    },
    "papermill": {
     "duration": 0.0134,
     "end_time": "2022-09-30T18:57:50.975992",
     "exception": false,
     "start_time": "2022-09-30T18:57:50.962592",
     "status": "completed"
    },
    "tags": []
   },
   "outputs": [],
   "source": [
    "#q2.hint()\n",
    "# q2.solution()"
   ]
  },
  {
   "cell_type": "markdown",
   "id": "18f843fe",
   "metadata": {
    "papermill": {
     "duration": 0.005571,
     "end_time": "2022-09-30T18:57:50.986704",
     "exception": false,
     "start_time": "2022-09-30T18:57:50.981133",
     "status": "completed"
    },
    "tags": []
   },
   "source": [
    "## 3.\n",
    "Sometimes the price column is null. How many reviews in the dataset are missing a price?"
   ]
  },
  {
   "cell_type": "code",
   "execution_count": 6,
   "id": "1e2bc995",
   "metadata": {
    "execution": {
     "iopub.execute_input": "2022-09-30T18:57:50.998871Z",
     "iopub.status.busy": "2022-09-30T18:57:50.998166Z",
     "iopub.status.idle": "2022-09-30T18:57:51.016538Z",
     "shell.execute_reply": "2022-09-30T18:57:51.015631Z"
    },
    "papermill": {
     "duration": 0.026973,
     "end_time": "2022-09-30T18:57:51.018683",
     "exception": false,
     "start_time": "2022-09-30T18:57:50.991710",
     "status": "completed"
    },
    "tags": []
   },
   "outputs": [
    {
     "data": {
      "application/javascript": [
       "parent.postMessage({\"jupyterEvent\": \"custom.exercise_interaction\", \"data\": {\"outcomeType\": 1, \"valueTowardsCompletion\": 0.25, \"interactionType\": 1, \"questionType\": 1, \"questionId\": \"3_CountMissingPrices\", \"learnToolsVersion\": \"0.3.4\", \"failureMessage\": \"\", \"exceptionClass\": \"\", \"trace\": \"\"}}, \"*\")"
      ],
      "text/plain": [
       "<IPython.core.display.Javascript object>"
      ]
     },
     "metadata": {},
     "output_type": "display_data"
    },
    {
     "data": {
      "text/markdown": [
       "<span style=\"color:#33cc33\">Correct</span>"
      ],
      "text/plain": [
       "Correct"
      ]
     },
     "metadata": {},
     "output_type": "display_data"
    }
   ],
   "source": [
    "missing_price_reviews = reviews[reviews.price.isnull()]\n",
    "n_missing_prices = len(missing_price_reviews)\n",
    "\n",
    "n_missing_prices = reviews.price.isnull().sum()\n",
    "\n",
    "n_missing_prices = pd.isnull(reviews.price).sum()\n",
    "\n",
    "# Check your answer\n",
    "q3.check()"
   ]
  },
  {
   "cell_type": "code",
   "execution_count": 7,
   "id": "fb986473",
   "metadata": {
    "execution": {
     "iopub.execute_input": "2022-09-30T18:57:51.031637Z",
     "iopub.status.busy": "2022-09-30T18:57:51.031016Z",
     "iopub.status.idle": "2022-09-30T18:57:51.034658Z",
     "shell.execute_reply": "2022-09-30T18:57:51.033830Z"
    },
    "papermill": {
     "duration": 0.012624,
     "end_time": "2022-09-30T18:57:51.036720",
     "exception": false,
     "start_time": "2022-09-30T18:57:51.024096",
     "status": "completed"
    },
    "tags": []
   },
   "outputs": [],
   "source": [
    "#q3.hint()\n",
    "# q3.solution()"
   ]
  },
  {
   "cell_type": "markdown",
   "id": "f0dd570b",
   "metadata": {
    "papermill": {
     "duration": 0.00509,
     "end_time": "2022-09-30T18:57:51.047205",
     "exception": false,
     "start_time": "2022-09-30T18:57:51.042115",
     "status": "completed"
    },
    "tags": []
   },
   "source": [
    "## 4.\n",
    "What are the most common wine-producing regions? Create a Series counting the number of times each value occurs in the `region_1` field. This field is often missing data, so replace missing values with `Unknown`. Sort in descending order.  Your output should look something like this:\n",
    "\n",
    "```\n",
    "Unknown                    21247\n",
    "Napa Valley                 4480\n",
    "                           ...  \n",
    "Bardolino Superiore            1\n",
    "Primitivo del Tarantino        1\n",
    "Name: region_1, Length: 1230, dtype: int64\n",
    "```"
   ]
  },
  {
   "cell_type": "code",
   "execution_count": 8,
   "id": "304ee805",
   "metadata": {
    "execution": {
     "iopub.execute_input": "2022-09-30T18:57:51.060136Z",
     "iopub.status.busy": "2022-09-30T18:57:51.059404Z",
     "iopub.status.idle": "2022-09-30T18:57:51.101321Z",
     "shell.execute_reply": "2022-09-30T18:57:51.100293Z"
    },
    "papermill": {
     "duration": 0.051098,
     "end_time": "2022-09-30T18:57:51.103655",
     "exception": false,
     "start_time": "2022-09-30T18:57:51.052557",
     "status": "completed"
    },
    "tags": []
   },
   "outputs": [
    {
     "data": {
      "application/javascript": [
       "parent.postMessage({\"jupyterEvent\": \"custom.exercise_interaction\", \"data\": {\"outcomeType\": 1, \"valueTowardsCompletion\": 0.25, \"interactionType\": 1, \"questionType\": 2, \"questionId\": \"4_ReviewsPerRegion\", \"learnToolsVersion\": \"0.3.4\", \"failureMessage\": \"\", \"exceptionClass\": \"\", \"trace\": \"\"}}, \"*\")"
      ],
      "text/plain": [
       "<IPython.core.display.Javascript object>"
      ]
     },
     "metadata": {},
     "output_type": "display_data"
    },
    {
     "data": {
      "text/markdown": [
       "<span style=\"color:#33cc33\">Correct</span>"
      ],
      "text/plain": [
       "Correct"
      ]
     },
     "metadata": {},
     "output_type": "display_data"
    }
   ],
   "source": [
    "reviews_per_region = reviews.region_1.fillna('Unknown').value_counts().sort_values(ascending=False)\n",
    "\n",
    "# Check your answer\n",
    "q4.check()"
   ]
  },
  {
   "cell_type": "code",
   "execution_count": 9,
   "id": "196c0d24",
   "metadata": {
    "execution": {
     "iopub.execute_input": "2022-09-30T18:57:51.117800Z",
     "iopub.status.busy": "2022-09-30T18:57:51.117188Z",
     "iopub.status.idle": "2022-09-30T18:57:51.121583Z",
     "shell.execute_reply": "2022-09-30T18:57:51.120450Z"
    },
    "papermill": {
     "duration": 0.013489,
     "end_time": "2022-09-30T18:57:51.123756",
     "exception": false,
     "start_time": "2022-09-30T18:57:51.110267",
     "status": "completed"
    },
    "tags": []
   },
   "outputs": [],
   "source": [
    "#q4.hint()\n",
    "# q4.solution()"
   ]
  },
  {
   "cell_type": "markdown",
   "id": "ec8e940b",
   "metadata": {
    "papermill": {
     "duration": 0.00563,
     "end_time": "2022-09-30T18:57:51.135413",
     "exception": false,
     "start_time": "2022-09-30T18:57:51.129783",
     "status": "completed"
    },
    "tags": []
   },
   "source": [
    "# Keep going\n",
    "\n",
    "Move on to **[renaming and combining](https://www.kaggle.com/residentmario/renaming-and-combining)**."
   ]
  },
  {
   "cell_type": "markdown",
   "id": "e8e664f6",
   "metadata": {
    "papermill": {
     "duration": 0.005127,
     "end_time": "2022-09-30T18:57:51.146020",
     "exception": false,
     "start_time": "2022-09-30T18:57:51.140893",
     "status": "completed"
    },
    "tags": []
   },
   "source": [
    "---\n",
    "\n",
    "\n",
    "\n",
    "\n",
    "*Have questions or comments? Visit the [course discussion forum](https://www.kaggle.com/learn/pandas/discussion) to chat with other learners.*"
   ]
  }
 ],
 "metadata": {
  "kernelspec": {
   "display_name": "Python 3",
   "language": "python",
   "name": "python3"
  },
  "language_info": {
   "codemirror_mode": {
    "name": "ipython",
    "version": 3
   },
   "file_extension": ".py",
   "mimetype": "text/x-python",
   "name": "python",
   "nbconvert_exporter": "python",
   "pygments_lexer": "ipython3",
   "version": "3.7.12"
  },
  "papermill": {
   "default_parameters": {},
   "duration": 13.435785,
   "end_time": "2022-09-30T18:57:51.874368",
   "environment_variables": {},
   "exception": null,
   "input_path": "__notebook__.ipynb",
   "output_path": "__notebook__.ipynb",
   "parameters": {},
   "start_time": "2022-09-30T18:57:38.438583",
   "version": "2.3.4"
  }
 },
 "nbformat": 4,
 "nbformat_minor": 5
}
