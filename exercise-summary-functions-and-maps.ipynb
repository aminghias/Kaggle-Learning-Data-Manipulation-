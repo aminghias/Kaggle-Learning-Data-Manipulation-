{
 "cells": [
  {
   "cell_type": "markdown",
   "id": "5b151124",
   "metadata": {
    "papermill": {
     "duration": 0.008269,
     "end_time": "2022-09-30T18:57:22.329383",
     "exception": false,
     "start_time": "2022-09-30T18:57:22.321114",
     "status": "completed"
    },
    "tags": []
   },
   "source": [
    "**This notebook is an exercise in the [Pandas](https://www.kaggle.com/learn/pandas) course.  You can reference the tutorial at [this link](https://www.kaggle.com/residentmario/summary-functions-and-maps).**\n",
    "\n",
    "---\n"
   ]
  },
  {
   "cell_type": "markdown",
   "id": "c05e41d6",
   "metadata": {
    "papermill": {
     "duration": 0.006662,
     "end_time": "2022-09-30T18:57:22.343406",
     "exception": false,
     "start_time": "2022-09-30T18:57:22.336744",
     "status": "completed"
    },
    "tags": []
   },
   "source": [
    "# Introduction\n",
    "\n",
    "Now you are ready to get a deeper understanding of your data.\n",
    "\n",
    "Run the following cell to load your data and some utility functions (including code to check your answers)."
   ]
  },
  {
   "cell_type": "code",
   "execution_count": 1,
   "id": "e25c4979",
   "metadata": {
    "execution": {
     "iopub.execute_input": "2022-09-30T18:57:22.360358Z",
     "iopub.status.busy": "2022-09-30T18:57:22.359765Z",
     "iopub.status.idle": "2022-09-30T18:57:30.209487Z",
     "shell.execute_reply": "2022-09-30T18:57:30.207825Z"
    },
    "papermill": {
     "duration": 7.861855,
     "end_time": "2022-09-30T18:57:30.212700",
     "exception": false,
     "start_time": "2022-09-30T18:57:22.350845",
     "status": "completed"
    },
    "tags": []
   },
   "outputs": [
    {
     "name": "stdout",
     "output_type": "stream",
     "text": [
      "Setup complete.\n"
     ]
    },
    {
     "data": {
      "text/html": [
       "<div>\n",
       "<style scoped>\n",
       "    .dataframe tbody tr th:only-of-type {\n",
       "        vertical-align: middle;\n",
       "    }\n",
       "\n",
       "    .dataframe tbody tr th {\n",
       "        vertical-align: top;\n",
       "    }\n",
       "\n",
       "    .dataframe thead th {\n",
       "        text-align: right;\n",
       "    }\n",
       "</style>\n",
       "<table border=\"1\" class=\"dataframe\">\n",
       "  <thead>\n",
       "    <tr style=\"text-align: right;\">\n",
       "      <th></th>\n",
       "      <th>country</th>\n",
       "      <th>description</th>\n",
       "      <th>designation</th>\n",
       "      <th>points</th>\n",
       "      <th>price</th>\n",
       "      <th>province</th>\n",
       "      <th>region_1</th>\n",
       "      <th>region_2</th>\n",
       "      <th>taster_name</th>\n",
       "      <th>taster_twitter_handle</th>\n",
       "      <th>title</th>\n",
       "      <th>variety</th>\n",
       "      <th>winery</th>\n",
       "    </tr>\n",
       "  </thead>\n",
       "  <tbody>\n",
       "    <tr>\n",
       "      <th>0</th>\n",
       "      <td>Italy</td>\n",
       "      <td>Aromas include tropical fruit, broom, brimston...</td>\n",
       "      <td>Vulkà Bianco</td>\n",
       "      <td>87</td>\n",
       "      <td>NaN</td>\n",
       "      <td>Sicily &amp; Sardinia</td>\n",
       "      <td>Etna</td>\n",
       "      <td>NaN</td>\n",
       "      <td>Kerin O’Keefe</td>\n",
       "      <td>@kerinokeefe</td>\n",
       "      <td>Nicosia 2013 Vulkà Bianco  (Etna)</td>\n",
       "      <td>White Blend</td>\n",
       "      <td>Nicosia</td>\n",
       "    </tr>\n",
       "    <tr>\n",
       "      <th>1</th>\n",
       "      <td>Portugal</td>\n",
       "      <td>This is ripe and fruity, a wine that is smooth...</td>\n",
       "      <td>Avidagos</td>\n",
       "      <td>87</td>\n",
       "      <td>15.0</td>\n",
       "      <td>Douro</td>\n",
       "      <td>NaN</td>\n",
       "      <td>NaN</td>\n",
       "      <td>Roger Voss</td>\n",
       "      <td>@vossroger</td>\n",
       "      <td>Quinta dos Avidagos 2011 Avidagos Red (Douro)</td>\n",
       "      <td>Portuguese Red</td>\n",
       "      <td>Quinta dos Avidagos</td>\n",
       "    </tr>\n",
       "    <tr>\n",
       "      <th>2</th>\n",
       "      <td>US</td>\n",
       "      <td>Tart and snappy, the flavors of lime flesh and...</td>\n",
       "      <td>NaN</td>\n",
       "      <td>87</td>\n",
       "      <td>14.0</td>\n",
       "      <td>Oregon</td>\n",
       "      <td>Willamette Valley</td>\n",
       "      <td>Willamette Valley</td>\n",
       "      <td>Paul Gregutt</td>\n",
       "      <td>@paulgwine</td>\n",
       "      <td>Rainstorm 2013 Pinot Gris (Willamette Valley)</td>\n",
       "      <td>Pinot Gris</td>\n",
       "      <td>Rainstorm</td>\n",
       "    </tr>\n",
       "    <tr>\n",
       "      <th>3</th>\n",
       "      <td>US</td>\n",
       "      <td>Pineapple rind, lemon pith and orange blossom ...</td>\n",
       "      <td>Reserve Late Harvest</td>\n",
       "      <td>87</td>\n",
       "      <td>13.0</td>\n",
       "      <td>Michigan</td>\n",
       "      <td>Lake Michigan Shore</td>\n",
       "      <td>NaN</td>\n",
       "      <td>Alexander Peartree</td>\n",
       "      <td>NaN</td>\n",
       "      <td>St. Julian 2013 Reserve Late Harvest Riesling ...</td>\n",
       "      <td>Riesling</td>\n",
       "      <td>St. Julian</td>\n",
       "    </tr>\n",
       "    <tr>\n",
       "      <th>4</th>\n",
       "      <td>US</td>\n",
       "      <td>Much like the regular bottling from 2012, this...</td>\n",
       "      <td>Vintner's Reserve Wild Child Block</td>\n",
       "      <td>87</td>\n",
       "      <td>65.0</td>\n",
       "      <td>Oregon</td>\n",
       "      <td>Willamette Valley</td>\n",
       "      <td>Willamette Valley</td>\n",
       "      <td>Paul Gregutt</td>\n",
       "      <td>@paulgwine</td>\n",
       "      <td>Sweet Cheeks 2012 Vintner's Reserve Wild Child...</td>\n",
       "      <td>Pinot Noir</td>\n",
       "      <td>Sweet Cheeks</td>\n",
       "    </tr>\n",
       "  </tbody>\n",
       "</table>\n",
       "</div>"
      ],
      "text/plain": [
       "    country                                        description  \\\n",
       "0     Italy  Aromas include tropical fruit, broom, brimston...   \n",
       "1  Portugal  This is ripe and fruity, a wine that is smooth...   \n",
       "2        US  Tart and snappy, the flavors of lime flesh and...   \n",
       "3        US  Pineapple rind, lemon pith and orange blossom ...   \n",
       "4        US  Much like the regular bottling from 2012, this...   \n",
       "\n",
       "                          designation  points  price           province  \\\n",
       "0                        Vulkà Bianco      87    NaN  Sicily & Sardinia   \n",
       "1                            Avidagos      87   15.0              Douro   \n",
       "2                                 NaN      87   14.0             Oregon   \n",
       "3                Reserve Late Harvest      87   13.0           Michigan   \n",
       "4  Vintner's Reserve Wild Child Block      87   65.0             Oregon   \n",
       "\n",
       "              region_1           region_2         taster_name  \\\n",
       "0                 Etna                NaN       Kerin O’Keefe   \n",
       "1                  NaN                NaN          Roger Voss   \n",
       "2    Willamette Valley  Willamette Valley        Paul Gregutt   \n",
       "3  Lake Michigan Shore                NaN  Alexander Peartree   \n",
       "4    Willamette Valley  Willamette Valley        Paul Gregutt   \n",
       "\n",
       "  taster_twitter_handle                                              title  \\\n",
       "0          @kerinokeefe                  Nicosia 2013 Vulkà Bianco  (Etna)   \n",
       "1            @vossroger      Quinta dos Avidagos 2011 Avidagos Red (Douro)   \n",
       "2           @paulgwine       Rainstorm 2013 Pinot Gris (Willamette Valley)   \n",
       "3                   NaN  St. Julian 2013 Reserve Late Harvest Riesling ...   \n",
       "4           @paulgwine   Sweet Cheeks 2012 Vintner's Reserve Wild Child...   \n",
       "\n",
       "          variety               winery  \n",
       "0     White Blend              Nicosia  \n",
       "1  Portuguese Red  Quinta dos Avidagos  \n",
       "2      Pinot Gris            Rainstorm  \n",
       "3        Riesling           St. Julian  \n",
       "4      Pinot Noir         Sweet Cheeks  "
      ]
     },
     "execution_count": 1,
     "metadata": {},
     "output_type": "execute_result"
    }
   ],
   "source": [
    "import pandas as pd\n",
    "pd.set_option(\"display.max_rows\", 5)\n",
    "reviews = pd.read_csv(\"../input/wine-reviews/winemag-data-130k-v2.csv\", index_col=0)\n",
    "\n",
    "from learntools.core import binder; binder.bind(globals())\n",
    "from learntools.pandas.summary_functions_and_maps import *\n",
    "print(\"Setup complete.\")\n",
    "\n",
    "reviews.head()"
   ]
  },
  {
   "cell_type": "markdown",
   "id": "c29e82de",
   "metadata": {
    "papermill": {
     "duration": 0.007662,
     "end_time": "2022-09-30T18:57:30.227956",
     "exception": false,
     "start_time": "2022-09-30T18:57:30.220294",
     "status": "completed"
    },
    "tags": []
   },
   "source": [
    "# Exercises"
   ]
  },
  {
   "cell_type": "markdown",
   "id": "ff6cd27e",
   "metadata": {
    "papermill": {
     "duration": 0.006725,
     "end_time": "2022-09-30T18:57:30.242347",
     "exception": false,
     "start_time": "2022-09-30T18:57:30.235622",
     "status": "completed"
    },
    "tags": []
   },
   "source": [
    "## 1.\n",
    "\n",
    "What is the median of the `points` column in the `reviews` DataFrame?"
   ]
  },
  {
   "cell_type": "code",
   "execution_count": 2,
   "id": "60c7b977",
   "metadata": {
    "execution": {
     "iopub.execute_input": "2022-09-30T18:57:30.258644Z",
     "iopub.status.busy": "2022-09-30T18:57:30.257849Z",
     "iopub.status.idle": "2022-09-30T18:57:30.269251Z",
     "shell.execute_reply": "2022-09-30T18:57:30.268316Z"
    },
    "papermill": {
     "duration": 0.022117,
     "end_time": "2022-09-30T18:57:30.271405",
     "exception": false,
     "start_time": "2022-09-30T18:57:30.249288",
     "status": "completed"
    },
    "tags": []
   },
   "outputs": [
    {
     "data": {
      "application/javascript": [
       "parent.postMessage({\"jupyterEvent\": \"custom.exercise_interaction\", \"data\": {\"outcomeType\": 1, \"valueTowardsCompletion\": 0.14285714285714285, \"interactionType\": 1, \"questionType\": 1, \"questionId\": \"1_MedianPoints\", \"learnToolsVersion\": \"0.3.4\", \"failureMessage\": \"\", \"exceptionClass\": \"\", \"trace\": \"\"}}, \"*\")"
      ],
      "text/plain": [
       "<IPython.core.display.Javascript object>"
      ]
     },
     "metadata": {},
     "output_type": "display_data"
    },
    {
     "data": {
      "text/markdown": [
       "<span style=\"color:#33cc33\">Correct</span>"
      ],
      "text/plain": [
       "Correct"
      ]
     },
     "metadata": {},
     "output_type": "display_data"
    }
   ],
   "source": [
    "median_points = reviews['points'].median()\n",
    "\n",
    "# Check your answer\n",
    "q1.check()"
   ]
  },
  {
   "cell_type": "code",
   "execution_count": 3,
   "id": "887bb3bd",
   "metadata": {
    "execution": {
     "iopub.execute_input": "2022-09-30T18:57:30.288380Z",
     "iopub.status.busy": "2022-09-30T18:57:30.287551Z",
     "iopub.status.idle": "2022-09-30T18:57:30.292387Z",
     "shell.execute_reply": "2022-09-30T18:57:30.291134Z"
    },
    "papermill": {
     "duration": 0.016702,
     "end_time": "2022-09-30T18:57:30.295187",
     "exception": false,
     "start_time": "2022-09-30T18:57:30.278485",
     "status": "completed"
    },
    "tags": []
   },
   "outputs": [],
   "source": [
    "#q1.hint()\n",
    "# q1.solution()"
   ]
  },
  {
   "cell_type": "markdown",
   "id": "1f04b512",
   "metadata": {
    "papermill": {
     "duration": 0.006826,
     "end_time": "2022-09-30T18:57:30.309224",
     "exception": false,
     "start_time": "2022-09-30T18:57:30.302398",
     "status": "completed"
    },
    "tags": []
   },
   "source": [
    "## 2. \n",
    "What countries are represented in the dataset? (Your answer should not include any duplicates.)"
   ]
  },
  {
   "cell_type": "code",
   "execution_count": 4,
   "id": "ff9b414e",
   "metadata": {
    "execution": {
     "iopub.execute_input": "2022-09-30T18:57:30.325788Z",
     "iopub.status.busy": "2022-09-30T18:57:30.325239Z",
     "iopub.status.idle": "2022-09-30T18:57:30.344236Z",
     "shell.execute_reply": "2022-09-30T18:57:30.342579Z"
    },
    "papermill": {
     "duration": 0.030366,
     "end_time": "2022-09-30T18:57:30.346662",
     "exception": false,
     "start_time": "2022-09-30T18:57:30.316296",
     "status": "completed"
    },
    "tags": []
   },
   "outputs": [
    {
     "data": {
      "application/javascript": [
       "parent.postMessage({\"jupyterEvent\": \"custom.exercise_interaction\", \"data\": {\"outcomeType\": 1, \"valueTowardsCompletion\": 0.14285714285714285, \"interactionType\": 1, \"questionType\": 2, \"questionId\": \"2_UniqueCountries\", \"learnToolsVersion\": \"0.3.4\", \"failureMessage\": \"\", \"exceptionClass\": \"\", \"trace\": \"\"}}, \"*\")"
      ],
      "text/plain": [
       "<IPython.core.display.Javascript object>"
      ]
     },
     "metadata": {},
     "output_type": "display_data"
    },
    {
     "data": {
      "text/markdown": [
       "<span style=\"color:#33cc33\">Correct</span>"
      ],
      "text/plain": [
       "Correct"
      ]
     },
     "metadata": {},
     "output_type": "display_data"
    }
   ],
   "source": [
    "countries = reviews.country.unique()\n",
    "\n",
    "# Check your answer\n",
    "q2.check()"
   ]
  },
  {
   "cell_type": "code",
   "execution_count": 5,
   "id": "c5312392",
   "metadata": {
    "execution": {
     "iopub.execute_input": "2022-09-30T18:57:30.363933Z",
     "iopub.status.busy": "2022-09-30T18:57:30.363205Z",
     "iopub.status.idle": "2022-09-30T18:57:30.367617Z",
     "shell.execute_reply": "2022-09-30T18:57:30.366446Z"
    },
    "papermill": {
     "duration": 0.015778,
     "end_time": "2022-09-30T18:57:30.369957",
     "exception": false,
     "start_time": "2022-09-30T18:57:30.354179",
     "status": "completed"
    },
    "tags": []
   },
   "outputs": [],
   "source": [
    "#q2.hint()\n",
    "# q2.solution()"
   ]
  },
  {
   "cell_type": "markdown",
   "id": "2fb9f077",
   "metadata": {
    "papermill": {
     "duration": 0.006958,
     "end_time": "2022-09-30T18:57:30.384437",
     "exception": false,
     "start_time": "2022-09-30T18:57:30.377479",
     "status": "completed"
    },
    "tags": []
   },
   "source": [
    "## 3.\n",
    "How often does each country appear in the dataset? Create a Series `reviews_per_country` mapping countries to the count of reviews of wines from that country."
   ]
  },
  {
   "cell_type": "code",
   "execution_count": 6,
   "id": "5cb2eb77",
   "metadata": {
    "execution": {
     "iopub.execute_input": "2022-09-30T18:57:30.402280Z",
     "iopub.status.busy": "2022-09-30T18:57:30.401735Z",
     "iopub.status.idle": "2022-09-30T18:57:30.421815Z",
     "shell.execute_reply": "2022-09-30T18:57:30.420694Z"
    },
    "papermill": {
     "duration": 0.031194,
     "end_time": "2022-09-30T18:57:30.424271",
     "exception": false,
     "start_time": "2022-09-30T18:57:30.393077",
     "status": "completed"
    },
    "tags": []
   },
   "outputs": [
    {
     "data": {
      "application/javascript": [
       "parent.postMessage({\"jupyterEvent\": \"custom.exercise_interaction\", \"data\": {\"outcomeType\": 1, \"valueTowardsCompletion\": 0.14285714285714285, \"interactionType\": 1, \"questionType\": 1, \"questionId\": \"3_ReviewsPerCountry\", \"learnToolsVersion\": \"0.3.4\", \"failureMessage\": \"\", \"exceptionClass\": \"\", \"trace\": \"\"}}, \"*\")"
      ],
      "text/plain": [
       "<IPython.core.display.Javascript object>"
      ]
     },
     "metadata": {},
     "output_type": "display_data"
    },
    {
     "data": {
      "text/markdown": [
       "<span style=\"color:#33cc33\">Correct</span>"
      ],
      "text/plain": [
       "Correct"
      ]
     },
     "metadata": {},
     "output_type": "display_data"
    }
   ],
   "source": [
    "reviews_per_country = reviews.country.value_counts()\n",
    "\n",
    "# Check your answer\n",
    "q3.check()"
   ]
  },
  {
   "cell_type": "code",
   "execution_count": 7,
   "id": "366c4835",
   "metadata": {
    "execution": {
     "iopub.execute_input": "2022-09-30T18:57:30.441432Z",
     "iopub.status.busy": "2022-09-30T18:57:30.440906Z",
     "iopub.status.idle": "2022-09-30T18:57:30.446550Z",
     "shell.execute_reply": "2022-09-30T18:57:30.445362Z"
    },
    "papermill": {
     "duration": 0.017151,
     "end_time": "2022-09-30T18:57:30.448934",
     "exception": false,
     "start_time": "2022-09-30T18:57:30.431783",
     "status": "completed"
    },
    "tags": []
   },
   "outputs": [],
   "source": [
    "#q3.hint()\n",
    "# q3.solution()"
   ]
  },
  {
   "cell_type": "markdown",
   "id": "4b8885fb",
   "metadata": {
    "papermill": {
     "duration": 0.006999,
     "end_time": "2022-09-30T18:57:30.463564",
     "exception": false,
     "start_time": "2022-09-30T18:57:30.456565",
     "status": "completed"
    },
    "tags": []
   },
   "source": [
    "## 4.\n",
    "Create variable `centered_price` containing a version of the `price` column with the mean price subtracted.\n",
    "\n",
    "(Note: this 'centering' transformation is a common preprocessing step before applying various machine learning algorithms.) "
   ]
  },
  {
   "cell_type": "code",
   "execution_count": 8,
   "id": "83cf9654",
   "metadata": {
    "execution": {
     "iopub.execute_input": "2022-09-30T18:57:30.481187Z",
     "iopub.status.busy": "2022-09-30T18:57:30.479942Z",
     "iopub.status.idle": "2022-09-30T18:57:30.493460Z",
     "shell.execute_reply": "2022-09-30T18:57:30.492262Z"
    },
    "papermill": {
     "duration": 0.024627,
     "end_time": "2022-09-30T18:57:30.495673",
     "exception": false,
     "start_time": "2022-09-30T18:57:30.471046",
     "status": "completed"
    },
    "tags": []
   },
   "outputs": [
    {
     "data": {
      "application/javascript": [
       "parent.postMessage({\"jupyterEvent\": \"custom.exercise_interaction\", \"data\": {\"outcomeType\": 1, \"valueTowardsCompletion\": 0.14285714285714285, \"interactionType\": 1, \"questionType\": 1, \"questionId\": \"4_CenteredPrice\", \"learnToolsVersion\": \"0.3.4\", \"failureMessage\": \"\", \"exceptionClass\": \"\", \"trace\": \"\"}}, \"*\")"
      ],
      "text/plain": [
       "<IPython.core.display.Javascript object>"
      ]
     },
     "metadata": {},
     "output_type": "display_data"
    },
    {
     "data": {
      "text/markdown": [
       "<span style=\"color:#33cc33\">Correct</span>"
      ],
      "text/plain": [
       "Correct"
      ]
     },
     "metadata": {},
     "output_type": "display_data"
    }
   ],
   "source": [
    "centered_price = reviews.price - reviews.price.mean()\n",
    "\n",
    "# Check your answer\n",
    "q4.check()"
   ]
  },
  {
   "cell_type": "code",
   "execution_count": 9,
   "id": "d4b3e565",
   "metadata": {
    "execution": {
     "iopub.execute_input": "2022-09-30T18:57:30.513356Z",
     "iopub.status.busy": "2022-09-30T18:57:30.512849Z",
     "iopub.status.idle": "2022-09-30T18:57:30.518297Z",
     "shell.execute_reply": "2022-09-30T18:57:30.517144Z"
    },
    "papermill": {
     "duration": 0.017062,
     "end_time": "2022-09-30T18:57:30.520616",
     "exception": false,
     "start_time": "2022-09-30T18:57:30.503554",
     "status": "completed"
    },
    "tags": []
   },
   "outputs": [],
   "source": [
    "#q4.hint()\n",
    "# q4.solution()"
   ]
  },
  {
   "cell_type": "markdown",
   "id": "61640a83",
   "metadata": {
    "papermill": {
     "duration": 0.007442,
     "end_time": "2022-09-30T18:57:30.536139",
     "exception": false,
     "start_time": "2022-09-30T18:57:30.528697",
     "status": "completed"
    },
    "tags": []
   },
   "source": [
    "## 5.\n",
    "I'm an economical wine buyer. Which wine is the \"best bargain\"? Create a variable `bargain_wine` with the title of the wine with the highest points-to-price ratio in the dataset."
   ]
  },
  {
   "cell_type": "code",
   "execution_count": 10,
   "id": "517e0a4e",
   "metadata": {
    "execution": {
     "iopub.execute_input": "2022-09-30T18:57:30.553717Z",
     "iopub.status.busy": "2022-09-30T18:57:30.553253Z",
     "iopub.status.idle": "2022-09-30T18:57:30.569826Z",
     "shell.execute_reply": "2022-09-30T18:57:30.568688Z"
    },
    "papermill": {
     "duration": 0.028448,
     "end_time": "2022-09-30T18:57:30.572407",
     "exception": false,
     "start_time": "2022-09-30T18:57:30.543959",
     "status": "completed"
    },
    "tags": []
   },
   "outputs": [
    {
     "data": {
      "application/javascript": [
       "parent.postMessage({\"jupyterEvent\": \"custom.exercise_interaction\", \"data\": {\"outcomeType\": 1, \"valueTowardsCompletion\": 0.14285714285714285, \"interactionType\": 1, \"questionType\": 2, \"questionId\": \"5_BargainWine\", \"learnToolsVersion\": \"0.3.4\", \"failureMessage\": \"\", \"exceptionClass\": \"\", \"trace\": \"\"}}, \"*\")"
      ],
      "text/plain": [
       "<IPython.core.display.Javascript object>"
      ]
     },
     "metadata": {},
     "output_type": "display_data"
    },
    {
     "data": {
      "text/markdown": [
       "<span style=\"color:#33cc33\">Correct</span>"
      ],
      "text/plain": [
       "Correct"
      ]
     },
     "metadata": {},
     "output_type": "display_data"
    }
   ],
   "source": [
    "bargain_idx = (reviews.points / reviews.price).idxmax()\n",
    "bargain_wine = reviews.loc[bargain_idx, 'title']\n",
    "\n",
    "# Check your answer\n",
    "q5.check()"
   ]
  },
  {
   "cell_type": "code",
   "execution_count": 11,
   "id": "4ab5271c",
   "metadata": {
    "execution": {
     "iopub.execute_input": "2022-09-30T18:57:30.590771Z",
     "iopub.status.busy": "2022-09-30T18:57:30.590251Z",
     "iopub.status.idle": "2022-09-30T18:57:30.595509Z",
     "shell.execute_reply": "2022-09-30T18:57:30.594124Z"
    },
    "papermill": {
     "duration": 0.017705,
     "end_time": "2022-09-30T18:57:30.598189",
     "exception": false,
     "start_time": "2022-09-30T18:57:30.580484",
     "status": "completed"
    },
    "tags": []
   },
   "outputs": [],
   "source": [
    "#q5.hint()\n",
    "# q5.solution()"
   ]
  },
  {
   "cell_type": "markdown",
   "id": "79144eb1",
   "metadata": {
    "papermill": {
     "duration": 0.00766,
     "end_time": "2022-09-30T18:57:30.614596",
     "exception": false,
     "start_time": "2022-09-30T18:57:30.606936",
     "status": "completed"
    },
    "tags": []
   },
   "source": [
    "## 6.\n",
    "There are only so many words you can use when describing a bottle of wine. Is a wine more likely to be \"tropical\" or \"fruity\"? Create a Series `descriptor_counts` counting how many times each of these two words appears in the `description` column in the dataset. (For simplicity, let's ignore the capitalized versions of these words.)"
   ]
  },
  {
   "cell_type": "code",
   "execution_count": 12,
   "id": "3d10095c",
   "metadata": {
    "execution": {
     "iopub.execute_input": "2022-09-30T18:57:30.632488Z",
     "iopub.status.busy": "2022-09-30T18:57:30.632000Z",
     "iopub.status.idle": "2022-09-30T18:57:30.786385Z",
     "shell.execute_reply": "2022-09-30T18:57:30.785191Z"
    },
    "papermill": {
     "duration": 0.166673,
     "end_time": "2022-09-30T18:57:30.789241",
     "exception": false,
     "start_time": "2022-09-30T18:57:30.622568",
     "status": "completed"
    },
    "tags": []
   },
   "outputs": [
    {
     "data": {
      "application/javascript": [
       "parent.postMessage({\"jupyterEvent\": \"custom.exercise_interaction\", \"data\": {\"outcomeType\": 1, \"valueTowardsCompletion\": 0.14285714285714285, \"interactionType\": 1, \"questionType\": 1, \"questionId\": \"6_DescriptorCounts\", \"learnToolsVersion\": \"0.3.4\", \"failureMessage\": \"\", \"exceptionClass\": \"\", \"trace\": \"\"}}, \"*\")"
      ],
      "text/plain": [
       "<IPython.core.display.Javascript object>"
      ]
     },
     "metadata": {},
     "output_type": "display_data"
    },
    {
     "data": {
      "text/markdown": [
       "<span style=\"color:#33cc33\">Correct</span>"
      ],
      "text/plain": [
       "Correct"
      ]
     },
     "metadata": {},
     "output_type": "display_data"
    }
   ],
   "source": [
    "n_trop = reviews.description.map(lambda desc: \"tropical\" in desc).sum()\n",
    "n_fruity = reviews.description.map(lambda desc: \"fruity\" in desc).sum()\n",
    "descriptor_counts = pd.Series([n_trop, n_fruity], index=['tropical', 'fruity'])\n",
    "\n",
    "# Check your answer\n",
    "q6.check()"
   ]
  },
  {
   "cell_type": "code",
   "execution_count": 13,
   "id": "60c53b58",
   "metadata": {
    "execution": {
     "iopub.execute_input": "2022-09-30T18:57:30.808676Z",
     "iopub.status.busy": "2022-09-30T18:57:30.808222Z",
     "iopub.status.idle": "2022-09-30T18:57:30.813601Z",
     "shell.execute_reply": "2022-09-30T18:57:30.812201Z"
    },
    "papermill": {
     "duration": 0.017803,
     "end_time": "2022-09-30T18:57:30.816084",
     "exception": false,
     "start_time": "2022-09-30T18:57:30.798281",
     "status": "completed"
    },
    "tags": []
   },
   "outputs": [],
   "source": [
    "#q6.hint()\n",
    "# q6.solution()"
   ]
  },
  {
   "cell_type": "markdown",
   "id": "ab58f2d5",
   "metadata": {
    "papermill": {
     "duration": 0.008052,
     "end_time": "2022-09-30T18:57:30.832740",
     "exception": false,
     "start_time": "2022-09-30T18:57:30.824688",
     "status": "completed"
    },
    "tags": []
   },
   "source": [
    "## 7.\n",
    "We'd like to host these wine reviews on our website, but a rating system ranging from 80 to 100 points is too hard to understand - we'd like to translate them into simple star ratings. A score of 95 or higher counts as 3 stars, a score of at least 85 but less than 95 is 2 stars. Any other score is 1 star.\n",
    "\n",
    "Also, the Canadian Vintners Association bought a lot of ads on the site, so any wines from Canada should automatically get 3 stars, regardless of points.\n",
    "\n",
    "Create a series `star_ratings` with the number of stars corresponding to each review in the dataset."
   ]
  },
  {
   "cell_type": "code",
   "execution_count": 14,
   "id": "19d9926a",
   "metadata": {
    "execution": {
     "iopub.execute_input": "2022-09-30T18:57:30.851898Z",
     "iopub.status.busy": "2022-09-30T18:57:30.851452Z",
     "iopub.status.idle": "2022-09-30T18:57:34.923570Z",
     "shell.execute_reply": "2022-09-30T18:57:34.922378Z"
    },
    "papermill": {
     "duration": 4.085086,
     "end_time": "2022-09-30T18:57:34.926179",
     "exception": false,
     "start_time": "2022-09-30T18:57:30.841093",
     "status": "completed"
    },
    "tags": []
   },
   "outputs": [
    {
     "data": {
      "application/javascript": [
       "parent.postMessage({\"jupyterEvent\": \"custom.exercise_interaction\", \"data\": {\"outcomeType\": 1, \"valueTowardsCompletion\": 0.14285714285714285, \"interactionType\": 1, \"questionType\": 1, \"questionId\": \"7_StarRatings\", \"learnToolsVersion\": \"0.3.4\", \"failureMessage\": \"\", \"exceptionClass\": \"\", \"trace\": \"\"}}, \"*\")"
      ],
      "text/plain": [
       "<IPython.core.display.Javascript object>"
      ]
     },
     "metadata": {},
     "output_type": "display_data"
    },
    {
     "data": {
      "text/markdown": [
       "<span style=\"color:#33cc33\">Correct</span>"
      ],
      "text/plain": [
       "Correct"
      ]
     },
     "metadata": {},
     "output_type": "display_data"
    }
   ],
   "source": [
    "def stars(row):\n",
    "    if row.country == 'Canada':\n",
    "        a=3\n",
    "        return a\n",
    "    elif row.points >= 95:\n",
    "        a=3\n",
    "        return a\n",
    "    elif row.points >= 85:\n",
    "        a=2\n",
    "        return 2\n",
    "    else:\n",
    "        a=1\n",
    "        return 1\n",
    "\n",
    "star_ratings = reviews.apply(stars, axis='columns')\n",
    "# Check your answer\n",
    "q7.check()"
   ]
  },
  {
   "cell_type": "code",
   "execution_count": 15,
   "id": "4dcd424a",
   "metadata": {
    "execution": {
     "iopub.execute_input": "2022-09-30T18:57:34.945085Z",
     "iopub.status.busy": "2022-09-30T18:57:34.944619Z",
     "iopub.status.idle": "2022-09-30T18:57:34.949326Z",
     "shell.execute_reply": "2022-09-30T18:57:34.948239Z"
    },
    "papermill": {
     "duration": 0.017038,
     "end_time": "2022-09-30T18:57:34.951652",
     "exception": false,
     "start_time": "2022-09-30T18:57:34.934614",
     "status": "completed"
    },
    "tags": []
   },
   "outputs": [],
   "source": [
    "#q7.hint()\n",
    "# q7.solution()"
   ]
  },
  {
   "cell_type": "markdown",
   "id": "47c2f28a",
   "metadata": {
    "papermill": {
     "duration": 0.008025,
     "end_time": "2022-09-30T18:57:34.968255",
     "exception": false,
     "start_time": "2022-09-30T18:57:34.960230",
     "status": "completed"
    },
    "tags": []
   },
   "source": [
    "# Keep going\n",
    "Continue to **[grouping and sorting](https://www.kaggle.com/residentmario/grouping-and-sorting)**."
   ]
  },
  {
   "cell_type": "markdown",
   "id": "239b611b",
   "metadata": {
    "papermill": {
     "duration": 0.007946,
     "end_time": "2022-09-30T18:57:34.984635",
     "exception": false,
     "start_time": "2022-09-30T18:57:34.976689",
     "status": "completed"
    },
    "tags": []
   },
   "source": [
    "---\n",
    "\n",
    "\n",
    "\n",
    "\n",
    "*Have questions or comments? Visit the [course discussion forum](https://www.kaggle.com/learn/pandas/discussion) to chat with other learners.*"
   ]
  }
 ],
 "metadata": {
  "kernelspec": {
   "display_name": "Python 3",
   "language": "python",
   "name": "python3"
  },
  "language_info": {
   "codemirror_mode": {
    "name": "ipython",
    "version": 3
   },
   "file_extension": ".py",
   "mimetype": "text/x-python",
   "name": "python",
   "nbconvert_exporter": "python",
   "pygments_lexer": "ipython3",
   "version": "3.7.12"
  },
  "papermill": {
   "default_parameters": {},
   "duration": 24.113628,
   "end_time": "2022-09-30T18:57:36.018725",
   "environment_variables": {},
   "exception": null,
   "input_path": "__notebook__.ipynb",
   "output_path": "__notebook__.ipynb",
   "parameters": {},
   "start_time": "2022-09-30T18:57:11.905097",
   "version": "2.3.4"
  }
 },
 "nbformat": 4,
 "nbformat_minor": 5
}
