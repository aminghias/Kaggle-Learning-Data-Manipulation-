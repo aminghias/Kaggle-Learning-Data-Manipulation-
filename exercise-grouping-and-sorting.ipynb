{
 "cells": [
  {
   "cell_type": "markdown",
   "id": "e37f4cff",
   "metadata": {
    "papermill": {
     "duration": 0.005918,
     "end_time": "2022-09-30T18:57:37.869828",
     "exception": false,
     "start_time": "2022-09-30T18:57:37.863910",
     "status": "completed"
    },
    "tags": []
   },
   "source": [
    "**This notebook is an exercise in the [Pandas](https://www.kaggle.com/learn/pandas) course.  You can reference the tutorial at [this link](https://www.kaggle.com/residentmario/grouping-and-sorting).**\n",
    "\n",
    "---\n"
   ]
  },
  {
   "cell_type": "markdown",
   "id": "a57a6a90",
   "metadata": {
    "papermill": {
     "duration": 0.004774,
     "end_time": "2022-09-30T18:57:37.879918",
     "exception": false,
     "start_time": "2022-09-30T18:57:37.875144",
     "status": "completed"
    },
    "tags": []
   },
   "source": [
    "# Introduction\n",
    "\n",
    "In these exercises we'll apply groupwise analysis to our dataset.\n",
    "\n",
    "Run the code cell below to load the data before running the exercises."
   ]
  },
  {
   "cell_type": "code",
   "execution_count": 1,
   "id": "a716bd37",
   "metadata": {
    "execution": {
     "iopub.execute_input": "2022-09-30T18:57:37.891741Z",
     "iopub.status.busy": "2022-09-30T18:57:37.891307Z",
     "iopub.status.idle": "2022-09-30T18:57:40.692706Z",
     "shell.execute_reply": "2022-09-30T18:57:40.691026Z"
    },
    "papermill": {
     "duration": 2.809883,
     "end_time": "2022-09-30T18:57:40.694974",
     "exception": false,
     "start_time": "2022-09-30T18:57:37.885091",
     "status": "completed"
    },
    "tags": []
   },
   "outputs": [
    {
     "name": "stdout",
     "output_type": "stream",
     "text": [
      "Setup complete.\n"
     ]
    }
   ],
   "source": [
    "import pandas as pd\n",
    "\n",
    "reviews = pd.read_csv(\"../input/wine-reviews/winemag-data-130k-v2.csv\", index_col=0)\n",
    "#pd.set_option(\"display.max_rows\", 5)\n",
    "\n",
    "from learntools.core import binder; binder.bind(globals())\n",
    "from learntools.pandas.grouping_and_sorting import *\n",
    "print(\"Setup complete.\")"
   ]
  },
  {
   "cell_type": "markdown",
   "id": "7961ddfa",
   "metadata": {
    "papermill": {
     "duration": 0.005003,
     "end_time": "2022-09-30T18:57:40.706514",
     "exception": false,
     "start_time": "2022-09-30T18:57:40.701511",
     "status": "completed"
    },
    "tags": []
   },
   "source": [
    "# Exercises"
   ]
  },
  {
   "cell_type": "markdown",
   "id": "712d1d3a",
   "metadata": {
    "papermill": {
     "duration": 0.004757,
     "end_time": "2022-09-30T18:57:40.716802",
     "exception": false,
     "start_time": "2022-09-30T18:57:40.712045",
     "status": "completed"
    },
    "tags": []
   },
   "source": [
    "## 1.\n",
    "Who are the most common wine reviewers in the dataset? Create a `Series` whose index is the `taster_twitter_handle` category from the dataset, and whose values count how many reviews each person wrote."
   ]
  },
  {
   "cell_type": "code",
   "execution_count": 2,
   "id": "c43d578a",
   "metadata": {
    "execution": {
     "iopub.execute_input": "2022-09-30T18:57:40.728903Z",
     "iopub.status.busy": "2022-09-30T18:57:40.728083Z",
     "iopub.status.idle": "2022-09-30T18:57:40.760223Z",
     "shell.execute_reply": "2022-09-30T18:57:40.758743Z"
    },
    "papermill": {
     "duration": 0.040688,
     "end_time": "2022-09-30T18:57:40.762438",
     "exception": false,
     "start_time": "2022-09-30T18:57:40.721750",
     "status": "completed"
    },
    "tags": []
   },
   "outputs": [
    {
     "data": {
      "application/javascript": [
       "parent.postMessage({\"jupyterEvent\": \"custom.exercise_interaction\", \"data\": {\"outcomeType\": 1, \"valueTowardsCompletion\": 0.16666666666666666, \"interactionType\": 1, \"questionType\": 1, \"questionId\": \"1_ReviewsWritten\", \"learnToolsVersion\": \"0.3.4\", \"failureMessage\": \"\", \"exceptionClass\": \"\", \"trace\": \"\"}}, \"*\")"
      ],
      "text/plain": [
       "<IPython.core.display.Javascript object>"
      ]
     },
     "metadata": {},
     "output_type": "display_data"
    },
    {
     "data": {
      "text/markdown": [
       "<span style=\"color:#33cc33\">Correct:</span> \n",
       "\n",
       "\n",
       "```python\n",
       "reviews_written = reviews.groupby('taster_twitter_handle').size()\n",
       "```\n",
       "or\n",
       "```python\n",
       "reviews_written = reviews.groupby('taster_twitter_handle').taster_twitter_handle.count()\n",
       "```\n"
      ],
      "text/plain": [
       "Correct: \n",
       "\n",
       "\n",
       "```python\n",
       "reviews_written = reviews.groupby('taster_twitter_handle').size()\n",
       "```\n",
       "or\n",
       "```python\n",
       "reviews_written = reviews.groupby('taster_twitter_handle').taster_twitter_handle.count()\n",
       "```"
      ]
     },
     "metadata": {},
     "output_type": "display_data"
    }
   ],
   "source": [
    "# Your code here\n",
    "reviews_written = reviews.groupby('taster_twitter_handle').taster_twitter_handle.count()\n",
    "\n",
    "# Check your answer\n",
    "q1.check()"
   ]
  },
  {
   "cell_type": "code",
   "execution_count": 3,
   "id": "ce8c373b",
   "metadata": {
    "execution": {
     "iopub.execute_input": "2022-09-30T18:57:40.775131Z",
     "iopub.status.busy": "2022-09-30T18:57:40.774690Z",
     "iopub.status.idle": "2022-09-30T18:57:40.779941Z",
     "shell.execute_reply": "2022-09-30T18:57:40.778157Z"
    },
    "papermill": {
     "duration": 0.014229,
     "end_time": "2022-09-30T18:57:40.782289",
     "exception": false,
     "start_time": "2022-09-30T18:57:40.768060",
     "status": "completed"
    },
    "tags": []
   },
   "outputs": [],
   "source": [
    "#q1.hint()\n",
    "# q1.solution()"
   ]
  },
  {
   "cell_type": "markdown",
   "id": "6f744eed",
   "metadata": {
    "papermill": {
     "duration": 0.004772,
     "end_time": "2022-09-30T18:57:40.792280",
     "exception": false,
     "start_time": "2022-09-30T18:57:40.787508",
     "status": "completed"
    },
    "tags": []
   },
   "source": [
    "## 2.\n",
    "What is the best wine I can buy for a given amount of money? Create a `Series` whose index is wine prices and whose values is the maximum number of points a wine costing that much was given in a review. Sort the values by price, ascending (so that `4.0` dollars is at the top and `3300.0` dollars is at the bottom)."
   ]
  },
  {
   "cell_type": "code",
   "execution_count": 4,
   "id": "893f3a47",
   "metadata": {
    "execution": {
     "iopub.execute_input": "2022-09-30T18:57:40.803557Z",
     "iopub.status.busy": "2022-09-30T18:57:40.803206Z",
     "iopub.status.idle": "2022-09-30T18:57:40.818487Z",
     "shell.execute_reply": "2022-09-30T18:57:40.816745Z"
    },
    "papermill": {
     "duration": 0.023442,
     "end_time": "2022-09-30T18:57:40.820593",
     "exception": false,
     "start_time": "2022-09-30T18:57:40.797151",
     "status": "completed"
    },
    "tags": []
   },
   "outputs": [
    {
     "data": {
      "application/javascript": [
       "parent.postMessage({\"jupyterEvent\": \"custom.exercise_interaction\", \"data\": {\"outcomeType\": 1, \"valueTowardsCompletion\": 0.16666666666666666, \"interactionType\": 1, \"questionType\": 1, \"questionId\": \"2_BestRatingPerPrice\", \"learnToolsVersion\": \"0.3.4\", \"failureMessage\": \"\", \"exceptionClass\": \"\", \"trace\": \"\"}}, \"*\")"
      ],
      "text/plain": [
       "<IPython.core.display.Javascript object>"
      ]
     },
     "metadata": {},
     "output_type": "display_data"
    },
    {
     "data": {
      "text/markdown": [
       "<span style=\"color:#33cc33\">Correct</span>"
      ],
      "text/plain": [
       "Correct"
      ]
     },
     "metadata": {},
     "output_type": "display_data"
    }
   ],
   "source": [
    "best_rating_per_price = reviews.groupby('price')['points'].max().sort_index()\n",
    "\n",
    "# Check your answer\n",
    "q2.check()"
   ]
  },
  {
   "cell_type": "code",
   "execution_count": 5,
   "id": "c979dd97",
   "metadata": {
    "execution": {
     "iopub.execute_input": "2022-09-30T18:57:40.832789Z",
     "iopub.status.busy": "2022-09-30T18:57:40.832398Z",
     "iopub.status.idle": "2022-09-30T18:57:40.836876Z",
     "shell.execute_reply": "2022-09-30T18:57:40.835848Z"
    },
    "papermill": {
     "duration": 0.01265,
     "end_time": "2022-09-30T18:57:40.838595",
     "exception": false,
     "start_time": "2022-09-30T18:57:40.825945",
     "status": "completed"
    },
    "tags": []
   },
   "outputs": [],
   "source": [
    "#q2.hint()\n",
    "# q2.solution()"
   ]
  },
  {
   "cell_type": "markdown",
   "id": "01c9faa1",
   "metadata": {
    "papermill": {
     "duration": 0.004902,
     "end_time": "2022-09-30T18:57:40.848738",
     "exception": false,
     "start_time": "2022-09-30T18:57:40.843836",
     "status": "completed"
    },
    "tags": []
   },
   "source": [
    "## 3.\n",
    "What are the minimum and maximum prices for each `variety` of wine? Create a `DataFrame` whose index is the `variety` category from the dataset and whose values are the `min` and `max` values thereof."
   ]
  },
  {
   "cell_type": "code",
   "execution_count": 6,
   "id": "62b85c98",
   "metadata": {
    "execution": {
     "iopub.execute_input": "2022-09-30T18:57:40.861344Z",
     "iopub.status.busy": "2022-09-30T18:57:40.861027Z",
     "iopub.status.idle": "2022-09-30T18:57:40.883826Z",
     "shell.execute_reply": "2022-09-30T18:57:40.882908Z"
    },
    "papermill": {
     "duration": 0.031699,
     "end_time": "2022-09-30T18:57:40.886192",
     "exception": false,
     "start_time": "2022-09-30T18:57:40.854493",
     "status": "completed"
    },
    "tags": []
   },
   "outputs": [
    {
     "data": {
      "application/javascript": [
       "parent.postMessage({\"jupyterEvent\": \"custom.exercise_interaction\", \"data\": {\"outcomeType\": 1, \"valueTowardsCompletion\": 0.16666666666666666, \"interactionType\": 1, \"questionType\": 1, \"questionId\": \"3_PriceExtremes\", \"learnToolsVersion\": \"0.3.4\", \"failureMessage\": \"\", \"exceptionClass\": \"\", \"trace\": \"\"}}, \"*\")"
      ],
      "text/plain": [
       "<IPython.core.display.Javascript object>"
      ]
     },
     "metadata": {},
     "output_type": "display_data"
    },
    {
     "data": {
      "text/markdown": [
       "<span style=\"color:#33cc33\">Correct</span>"
      ],
      "text/plain": [
       "Correct"
      ]
     },
     "metadata": {},
     "output_type": "display_data"
    }
   ],
   "source": [
    "price_extremes = reviews.groupby('variety').price.agg([min, max])\n",
    "\n",
    "# Check your answer\n",
    "q3.check()"
   ]
  },
  {
   "cell_type": "code",
   "execution_count": 7,
   "id": "eabd5052",
   "metadata": {
    "execution": {
     "iopub.execute_input": "2022-09-30T18:57:40.899255Z",
     "iopub.status.busy": "2022-09-30T18:57:40.898921Z",
     "iopub.status.idle": "2022-09-30T18:57:40.902929Z",
     "shell.execute_reply": "2022-09-30T18:57:40.901537Z"
    },
    "papermill": {
     "duration": 0.012918,
     "end_time": "2022-09-30T18:57:40.904865",
     "exception": false,
     "start_time": "2022-09-30T18:57:40.891947",
     "status": "completed"
    },
    "tags": []
   },
   "outputs": [],
   "source": [
    "#q3.hint()\n",
    "# q3.solution()"
   ]
  },
  {
   "cell_type": "markdown",
   "id": "71a43d39",
   "metadata": {
    "papermill": {
     "duration": 0.005443,
     "end_time": "2022-09-30T18:57:40.916420",
     "exception": false,
     "start_time": "2022-09-30T18:57:40.910977",
     "status": "completed"
    },
    "tags": []
   },
   "source": [
    "## 4.\n",
    "What are the most expensive wine varieties? Create a variable `sorted_varieties` containing a copy of the dataframe from the previous question where varieties are sorted in descending order based on minimum price, then on maximum price (to break ties)."
   ]
  },
  {
   "cell_type": "code",
   "execution_count": 8,
   "id": "256e48e0",
   "metadata": {
    "execution": {
     "iopub.execute_input": "2022-09-30T18:57:40.928671Z",
     "iopub.status.busy": "2022-09-30T18:57:40.928321Z",
     "iopub.status.idle": "2022-09-30T18:57:40.940140Z",
     "shell.execute_reply": "2022-09-30T18:57:40.938744Z"
    },
    "papermill": {
     "duration": 0.021122,
     "end_time": "2022-09-30T18:57:40.942985",
     "exception": false,
     "start_time": "2022-09-30T18:57:40.921863",
     "status": "completed"
    },
    "tags": []
   },
   "outputs": [
    {
     "data": {
      "application/javascript": [
       "parent.postMessage({\"jupyterEvent\": \"custom.exercise_interaction\", \"data\": {\"outcomeType\": 1, \"valueTowardsCompletion\": 0.16666666666666666, \"interactionType\": 1, \"questionType\": 1, \"questionId\": \"4_SortedVarieties\", \"learnToolsVersion\": \"0.3.4\", \"failureMessage\": \"\", \"exceptionClass\": \"\", \"trace\": \"\"}}, \"*\")"
      ],
      "text/plain": [
       "<IPython.core.display.Javascript object>"
      ]
     },
     "metadata": {},
     "output_type": "display_data"
    },
    {
     "data": {
      "text/markdown": [
       "<span style=\"color:#33cc33\">Correct</span>"
      ],
      "text/plain": [
       "Correct"
      ]
     },
     "metadata": {},
     "output_type": "display_data"
    }
   ],
   "source": [
    "sorted_varieties = price_extremes.sort_values(by=['min', 'max'], ascending=False)\n",
    "\n",
    "# Check your answer\n",
    "q4.check()"
   ]
  },
  {
   "cell_type": "code",
   "execution_count": 9,
   "id": "c317f82d",
   "metadata": {
    "execution": {
     "iopub.execute_input": "2022-09-30T18:57:40.956355Z",
     "iopub.status.busy": "2022-09-30T18:57:40.955907Z",
     "iopub.status.idle": "2022-09-30T18:57:40.960881Z",
     "shell.execute_reply": "2022-09-30T18:57:40.959596Z"
    },
    "papermill": {
     "duration": 0.014514,
     "end_time": "2022-09-30T18:57:40.963625",
     "exception": false,
     "start_time": "2022-09-30T18:57:40.949111",
     "status": "completed"
    },
    "tags": []
   },
   "outputs": [],
   "source": [
    "#q4.hint()\n",
    "# q4.solution()"
   ]
  },
  {
   "cell_type": "markdown",
   "id": "9f01d627",
   "metadata": {
    "papermill": {
     "duration": 0.005427,
     "end_time": "2022-09-30T18:57:40.974937",
     "exception": false,
     "start_time": "2022-09-30T18:57:40.969510",
     "status": "completed"
    },
    "tags": []
   },
   "source": [
    "## 5.\n",
    "Create a `Series` whose index is reviewers and whose values is the average review score given out by that reviewer. Hint: you will need the `taster_name` and `points` columns."
   ]
  },
  {
   "cell_type": "code",
   "execution_count": 10,
   "id": "e1fb3f99",
   "metadata": {
    "execution": {
     "iopub.execute_input": "2022-09-30T18:57:40.987758Z",
     "iopub.status.busy": "2022-09-30T18:57:40.987394Z",
     "iopub.status.idle": "2022-09-30T18:57:41.007213Z",
     "shell.execute_reply": "2022-09-30T18:57:41.006203Z"
    },
    "papermill": {
     "duration": 0.02888,
     "end_time": "2022-09-30T18:57:41.009529",
     "exception": false,
     "start_time": "2022-09-30T18:57:40.980649",
     "status": "completed"
    },
    "tags": []
   },
   "outputs": [
    {
     "data": {
      "application/javascript": [
       "parent.postMessage({\"jupyterEvent\": \"custom.exercise_interaction\", \"data\": {\"outcomeType\": 1, \"valueTowardsCompletion\": 0.16666666666666666, \"interactionType\": 1, \"questionType\": 1, \"questionId\": \"5_ReviewerMeanRatings\", \"learnToolsVersion\": \"0.3.4\", \"failureMessage\": \"\", \"exceptionClass\": \"\", \"trace\": \"\"}}, \"*\")"
      ],
      "text/plain": [
       "<IPython.core.display.Javascript object>"
      ]
     },
     "metadata": {},
     "output_type": "display_data"
    },
    {
     "data": {
      "text/markdown": [
       "<span style=\"color:#33cc33\">Correct</span>"
      ],
      "text/plain": [
       "Correct"
      ]
     },
     "metadata": {},
     "output_type": "display_data"
    }
   ],
   "source": [
    "reviewer_mean_ratings = reviews.groupby('taster_name').points.mean()\n",
    "\n",
    "# Check your answer\n",
    "q5.check()"
   ]
  },
  {
   "cell_type": "code",
   "execution_count": 11,
   "id": "6e45f917",
   "metadata": {
    "execution": {
     "iopub.execute_input": "2022-09-30T18:57:41.023511Z",
     "iopub.status.busy": "2022-09-30T18:57:41.023199Z",
     "iopub.status.idle": "2022-09-30T18:57:41.027968Z",
     "shell.execute_reply": "2022-09-30T18:57:41.026945Z"
    },
    "papermill": {
     "duration": 0.014719,
     "end_time": "2022-09-30T18:57:41.030207",
     "exception": false,
     "start_time": "2022-09-30T18:57:41.015488",
     "status": "completed"
    },
    "tags": []
   },
   "outputs": [],
   "source": [
    "#q5.hint()\n",
    "# q5.solution()"
   ]
  },
  {
   "cell_type": "markdown",
   "id": "be5abfcf",
   "metadata": {
    "papermill": {
     "duration": 0.005426,
     "end_time": "2022-09-30T18:57:41.041829",
     "exception": false,
     "start_time": "2022-09-30T18:57:41.036403",
     "status": "completed"
    },
    "tags": []
   },
   "source": [
    "Are there significant differences in the average scores assigned by the various reviewers? Run the cell below to use the `describe()` method to see a summary of the range of values."
   ]
  },
  {
   "cell_type": "code",
   "execution_count": 12,
   "id": "9f82f761",
   "metadata": {
    "execution": {
     "iopub.execute_input": "2022-09-30T18:57:41.054558Z",
     "iopub.status.busy": "2022-09-30T18:57:41.054248Z",
     "iopub.status.idle": "2022-09-30T18:57:41.066359Z",
     "shell.execute_reply": "2022-09-30T18:57:41.064943Z"
    },
    "papermill": {
     "duration": 0.020627,
     "end_time": "2022-09-30T18:57:41.068225",
     "exception": false,
     "start_time": "2022-09-30T18:57:41.047598",
     "status": "completed"
    },
    "tags": []
   },
   "outputs": [
    {
     "data": {
      "text/plain": [
       "count    19.000000\n",
       "mean     88.233026\n",
       "std       1.243610\n",
       "min      85.855422\n",
       "25%      87.323501\n",
       "50%      88.536235\n",
       "75%      88.975256\n",
       "max      90.562551\n",
       "Name: points, dtype: float64"
      ]
     },
     "execution_count": 12,
     "metadata": {},
     "output_type": "execute_result"
    }
   ],
   "source": [
    "reviewer_mean_ratings.describe()"
   ]
  },
  {
   "cell_type": "markdown",
   "id": "c765c8ad",
   "metadata": {
    "papermill": {
     "duration": 0.005776,
     "end_time": "2022-09-30T18:57:41.080239",
     "exception": false,
     "start_time": "2022-09-30T18:57:41.074463",
     "status": "completed"
    },
    "tags": []
   },
   "source": [
    "## 6.\n",
    "What combination of countries and varieties are most common? Create a `Series` whose index is a `MultiIndex`of `{country, variety}` pairs. For example, a pinot noir produced in the US should map to `{\"US\", \"Pinot Noir\"}`. Sort the values in the `Series` in descending order based on wine count."
   ]
  },
  {
   "cell_type": "code",
   "execution_count": 13,
   "id": "bdce19e9",
   "metadata": {
    "execution": {
     "iopub.execute_input": "2022-09-30T18:57:41.093692Z",
     "iopub.status.busy": "2022-09-30T18:57:41.093322Z",
     "iopub.status.idle": "2022-09-30T18:57:41.127229Z",
     "shell.execute_reply": "2022-09-30T18:57:41.125942Z"
    },
    "papermill": {
     "duration": 0.043415,
     "end_time": "2022-09-30T18:57:41.129628",
     "exception": false,
     "start_time": "2022-09-30T18:57:41.086213",
     "status": "completed"
    },
    "tags": []
   },
   "outputs": [
    {
     "data": {
      "application/javascript": [
       "parent.postMessage({\"jupyterEvent\": \"custom.exercise_interaction\", \"data\": {\"outcomeType\": 1, \"valueTowardsCompletion\": 0.16666666666666666, \"interactionType\": 1, \"questionType\": 1, \"questionId\": \"6_GroupbyCountryVariety\", \"learnToolsVersion\": \"0.3.4\", \"failureMessage\": \"\", \"exceptionClass\": \"\", \"trace\": \"\"}}, \"*\")"
      ],
      "text/plain": [
       "<IPython.core.display.Javascript object>"
      ]
     },
     "metadata": {},
     "output_type": "display_data"
    },
    {
     "data": {
      "text/markdown": [
       "<span style=\"color:#33cc33\">Correct</span>"
      ],
      "text/plain": [
       "Correct"
      ]
     },
     "metadata": {},
     "output_type": "display_data"
    }
   ],
   "source": [
    "country_variety_counts = reviews.groupby(['country', 'variety']).size().sort_values(ascending=False)\n",
    "\n",
    "# Check your answer\n",
    "q6.check()"
   ]
  },
  {
   "cell_type": "code",
   "execution_count": 14,
   "id": "e9e0ae20",
   "metadata": {
    "execution": {
     "iopub.execute_input": "2022-09-30T18:57:41.143739Z",
     "iopub.status.busy": "2022-09-30T18:57:41.143439Z",
     "iopub.status.idle": "2022-09-30T18:57:41.148669Z",
     "shell.execute_reply": "2022-09-30T18:57:41.147270Z"
    },
    "papermill": {
     "duration": 0.014672,
     "end_time": "2022-09-30T18:57:41.150751",
     "exception": false,
     "start_time": "2022-09-30T18:57:41.136079",
     "status": "completed"
    },
    "tags": []
   },
   "outputs": [],
   "source": [
    "#q6.hint()\n",
    "# q6.solution()"
   ]
  },
  {
   "cell_type": "markdown",
   "id": "c3bf2bc1",
   "metadata": {
    "papermill": {
     "duration": 0.005607,
     "end_time": "2022-09-30T18:57:41.162665",
     "exception": false,
     "start_time": "2022-09-30T18:57:41.157058",
     "status": "completed"
    },
    "tags": []
   },
   "source": [
    "# Keep going\n",
    "\n",
    "Move on to the [**data types and missing data**](https://www.kaggle.com/residentmario/data-types-and-missing-values)."
   ]
  },
  {
   "cell_type": "markdown",
   "id": "c949ea1a",
   "metadata": {
    "papermill": {
     "duration": 0.005606,
     "end_time": "2022-09-30T18:57:41.174179",
     "exception": false,
     "start_time": "2022-09-30T18:57:41.168573",
     "status": "completed"
    },
    "tags": []
   },
   "source": [
    "---\n",
    "\n",
    "\n",
    "\n",
    "\n",
    "*Have questions or comments? Visit the [course discussion forum](https://www.kaggle.com/learn/pandas/discussion) to chat with other learners.*"
   ]
  }
 ],
 "metadata": {
  "kernelspec": {
   "display_name": "Python 3",
   "language": "python",
   "name": "python3"
  },
  "language_info": {
   "codemirror_mode": {
    "name": "ipython",
    "version": 3
   },
   "file_extension": ".py",
   "mimetype": "text/x-python",
   "name": "python",
   "nbconvert_exporter": "python",
   "pygments_lexer": "ipython3",
   "version": "3.7.12"
  },
  "papermill": {
   "default_parameters": {},
   "duration": 13.488887,
   "end_time": "2022-09-30T18:57:41.800953",
   "environment_variables": {},
   "exception": null,
   "input_path": "__notebook__.ipynb",
   "output_path": "__notebook__.ipynb",
   "parameters": {},
   "start_time": "2022-09-30T18:57:28.312066",
   "version": "2.3.4"
  }
 },
 "nbformat": 4,
 "nbformat_minor": 5
}
